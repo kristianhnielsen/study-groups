{
 "cells": [
  {
   "cell_type": "markdown",
   "id": "4ed1418f",
   "metadata": {},
   "source": [
    "# Imports"
   ]
  },
  {
   "cell_type": "code",
   "execution_count": 435,
   "id": "0fbbe5c1",
   "metadata": {},
   "outputs": [],
   "source": [
    "import pandas as pd"
   ]
  },
  {
   "cell_type": "code",
   "execution_count": 436,
   "id": "cf93bb34",
   "metadata": {},
   "outputs": [
    {
     "data": {
      "text/html": [
       "<div>\n",
       "<style scoped>\n",
       "    .dataframe tbody tr th:only-of-type {\n",
       "        vertical-align: middle;\n",
       "    }\n",
       "\n",
       "    .dataframe tbody tr th {\n",
       "        vertical-align: top;\n",
       "    }\n",
       "\n",
       "    .dataframe thead th {\n",
       "        text-align: right;\n",
       "    }\n",
       "</style>\n",
       "<table border=\"1\" class=\"dataframe\">\n",
       "  <thead>\n",
       "    <tr style=\"text-align: right;\">\n",
       "      <th></th>\n",
       "      <th>ID</th>\n",
       "      <th>Start time</th>\n",
       "      <th>Completion time</th>\n",
       "      <th>Email</th>\n",
       "      <th>Name</th>\n",
       "      <th>Last modified time</th>\n",
       "      <th>Statement 1</th>\n",
       "      <th>Statement 12</th>\n",
       "      <th>Statement 13</th>\n",
       "      <th>When would it suit you best to meet?</th>\n",
       "    </tr>\n",
       "  </thead>\n",
       "  <tbody>\n",
       "    <tr>\n",
       "      <th>0</th>\n",
       "      <td>1</td>\n",
       "      <td>2025-09-02 14:18:46</td>\n",
       "      <td>2025-09-02 14:19:47</td>\n",
       "      <td>jamoe25@student.sdu.dk</td>\n",
       "      <td>Jakob Randa Mørk</td>\n",
       "      <td>NaN</td>\n",
       "      <td>I see it as an advantage</td>\n",
       "      <td>Intermediate (some experience, but still limited)</td>\n",
       "      <td>Preferrable on campus</td>\n",
       "      <td>Before/after classes on weekdays ;</td>\n",
       "    </tr>\n",
       "    <tr>\n",
       "      <th>1</th>\n",
       "      <td>2</td>\n",
       "      <td>2025-09-02 14:18:42</td>\n",
       "      <td>2025-09-02 14:19:49</td>\n",
       "      <td>anlaz25@student.sdu.dk</td>\n",
       "      <td>Ana Lazar</td>\n",
       "      <td>NaN</td>\n",
       "      <td>Neutral – I can work both alone and in a group</td>\n",
       "      <td>No experience</td>\n",
       "      <td>Preferable Online</td>\n",
       "      <td>Before/after classes on weekdays ;Weekends, place to be arranged among team members.;</td>\n",
       "    </tr>\n",
       "    <tr>\n",
       "      <th>2</th>\n",
       "      <td>3</td>\n",
       "      <td>2025-09-02 14:19:03</td>\n",
       "      <td>2025-09-02 14:21:21</td>\n",
       "      <td>zosip25@student.sdu.dk</td>\n",
       "      <td>Zorka Anna Sipos</td>\n",
       "      <td>NaN</td>\n",
       "      <td>I see it as an advantage</td>\n",
       "      <td>Almost no experience</td>\n",
       "      <td>I have limited time to meet</td>\n",
       "      <td>Flexible;I am working around 20-30 hours a week during weekdays. So weekday evenings either in person or online are fine. I wouldnt want to do groupwork on the weekend only or mainly by myself;Week day evenings;</td>\n",
       "    </tr>\n",
       "    <tr>\n",
       "      <th>3</th>\n",
       "      <td>4</td>\n",
       "      <td>2025-09-02 14:20:37</td>\n",
       "      <td>2025-09-02 14:22:45</td>\n",
       "      <td>sosar25@student.sdu.dk</td>\n",
       "      <td>SOHEL SARKER</td>\n",
       "      <td>NaN</td>\n",
       "      <td>I very much believe it will strengthen my learning.</td>\n",
       "      <td>Intermediate (some experience, but still limited)</td>\n",
       "      <td>Preferable Online</td>\n",
       "      <td>Before/after classes on weekdays ;</td>\n",
       "    </tr>\n",
       "    <tr>\n",
       "      <th>4</th>\n",
       "      <td>5</td>\n",
       "      <td>2025-09-02 14:19:47</td>\n",
       "      <td>2025-09-02 14:23:00</td>\n",
       "      <td>luebe22@student.sdu.dk</td>\n",
       "      <td>Lucie Eberová</td>\n",
       "      <td>NaN</td>\n",
       "      <td>I see it as an advantage</td>\n",
       "      <td>No experience</td>\n",
       "      <td>Both are fine</td>\n",
       "      <td>Flexible;</td>\n",
       "    </tr>\n",
       "  </tbody>\n",
       "</table>\n",
       "</div>"
      ],
      "text/plain": [
       "   ID          Start time     Completion time                   Email  \\\n",
       "0   1 2025-09-02 14:18:46 2025-09-02 14:19:47  jamoe25@student.sdu.dk   \n",
       "1   2 2025-09-02 14:18:42 2025-09-02 14:19:49  anlaz25@student.sdu.dk   \n",
       "2   3 2025-09-02 14:19:03 2025-09-02 14:21:21  zosip25@student.sdu.dk   \n",
       "3   4 2025-09-02 14:20:37 2025-09-02 14:22:45  sosar25@student.sdu.dk   \n",
       "4   5 2025-09-02 14:19:47 2025-09-02 14:23:00  luebe22@student.sdu.dk   \n",
       "\n",
       "               Name  Last modified time  \\\n",
       "0  Jakob Randa Mørk                 NaN   \n",
       "1         Ana Lazar                 NaN   \n",
       "2  Zorka Anna Sipos                 NaN   \n",
       "3      SOHEL SARKER                 NaN   \n",
       "4     Lucie Eberová                 NaN   \n",
       "\n",
       "                                           Statement 1  \\\n",
       "0                            I see it as an advantage    \n",
       "1       Neutral – I can work both alone and in a group   \n",
       "2                            I see it as an advantage    \n",
       "3  I very much believe it will strengthen my learning.   \n",
       "4                            I see it as an advantage    \n",
       "\n",
       "                                         Statement 12  \\\n",
       "0   Intermediate (some experience, but still limited)   \n",
       "1                                       No experience   \n",
       "2                               Almost no experience    \n",
       "3   Intermediate (some experience, but still limited)   \n",
       "4                                       No experience   \n",
       "\n",
       "                   Statement 13  \\\n",
       "0       Preferrable on campus     \n",
       "1             Preferable Online   \n",
       "2  I have limited time to meet    \n",
       "3             Preferable Online   \n",
       "4                Both are fine    \n",
       "\n",
       "                                                                                                                                                                                  When would it suit you best to meet?  \n",
       "0                                                                                                                                                                                   Before/after classes on weekdays ;  \n",
       "1                                                                                                                                Before/after classes on weekdays ;Weekends, place to be arranged among team members.;  \n",
       "2  Flexible;I am working around 20-30 hours a week during weekdays. So weekday evenings either in person or online are fine. I wouldnt want to do groupwork on the weekend only or mainly by myself;Week day evenings;  \n",
       "3                                                                                                                                                                                   Before/after classes on weekdays ;  \n",
       "4                                                                                                                                                                                                            Flexible;  "
      ]
     },
     "execution_count": 436,
     "metadata": {},
     "output_type": "execute_result"
    }
   ],
   "source": [
    "data = pd.read_excel('data/Study Group Survey(1-92).xlsx')\n",
    "data.head()"
   ]
  },
  {
   "cell_type": "markdown",
   "id": "e739d703",
   "metadata": {},
   "source": [
    "# Drop Columns"
   ]
  },
  {
   "cell_type": "code",
   "execution_count": 437,
   "id": "e741c1d7",
   "metadata": {},
   "outputs": [
    {
     "data": {
      "text/plain": [
       "Index(['ID', 'Start time', 'Completion time', 'Email', 'Name',\n",
       "       'Last modified time', 'Statement 1', 'Statement 12', 'Statement 13',\n",
       "       'When would it suit you best to meet?'],\n",
       "      dtype='object')"
      ]
     },
     "execution_count": 437,
     "metadata": {},
     "output_type": "execute_result"
    }
   ],
   "source": [
    "data.columns"
   ]
  },
  {
   "cell_type": "code",
   "execution_count": 438,
   "id": "41b356f5",
   "metadata": {},
   "outputs": [
    {
     "data": {
      "text/html": [
       "<div>\n",
       "<style scoped>\n",
       "    .dataframe tbody tr th:only-of-type {\n",
       "        vertical-align: middle;\n",
       "    }\n",
       "\n",
       "    .dataframe tbody tr th {\n",
       "        vertical-align: top;\n",
       "    }\n",
       "\n",
       "    .dataframe thead th {\n",
       "        text-align: right;\n",
       "    }\n",
       "</style>\n",
       "<table border=\"1\" class=\"dataframe\">\n",
       "  <thead>\n",
       "    <tr style=\"text-align: right;\">\n",
       "      <th></th>\n",
       "      <th>ID</th>\n",
       "      <th>Statement 1</th>\n",
       "      <th>Statement 12</th>\n",
       "      <th>Statement 13</th>\n",
       "      <th>When would it suit you best to meet?</th>\n",
       "    </tr>\n",
       "  </thead>\n",
       "  <tbody>\n",
       "    <tr>\n",
       "      <th>0</th>\n",
       "      <td>1</td>\n",
       "      <td>I see it as an advantage</td>\n",
       "      <td>Intermediate (some experience, but still limited)</td>\n",
       "      <td>Preferrable on campus</td>\n",
       "      <td>Before/after classes on weekdays ;</td>\n",
       "    </tr>\n",
       "    <tr>\n",
       "      <th>1</th>\n",
       "      <td>2</td>\n",
       "      <td>Neutral – I can work both alone and in a group</td>\n",
       "      <td>No experience</td>\n",
       "      <td>Preferable Online</td>\n",
       "      <td>Before/after classes on weekdays ;Weekends, place to be arranged among team members.;</td>\n",
       "    </tr>\n",
       "    <tr>\n",
       "      <th>2</th>\n",
       "      <td>3</td>\n",
       "      <td>I see it as an advantage</td>\n",
       "      <td>Almost no experience</td>\n",
       "      <td>I have limited time to meet</td>\n",
       "      <td>Flexible;I am working around 20-30 hours a week during weekdays. So weekday evenings either in person or online are fine. I wouldnt want to do groupwork on the weekend only or mainly by myself;Week day evenings;</td>\n",
       "    </tr>\n",
       "  </tbody>\n",
       "</table>\n",
       "</div>"
      ],
      "text/plain": [
       "   ID                                     Statement 1  \\\n",
       "0   1                       I see it as an advantage    \n",
       "1   2  Neutral – I can work both alone and in a group   \n",
       "2   3                       I see it as an advantage    \n",
       "\n",
       "                                         Statement 12  \\\n",
       "0   Intermediate (some experience, but still limited)   \n",
       "1                                       No experience   \n",
       "2                               Almost no experience    \n",
       "\n",
       "                   Statement 13  \\\n",
       "0       Preferrable on campus     \n",
       "1             Preferable Online   \n",
       "2  I have limited time to meet    \n",
       "\n",
       "                                                                                                                                                                                  When would it suit you best to meet?  \n",
       "0                                                                                                                                                                                   Before/after classes on weekdays ;  \n",
       "1                                                                                                                                Before/after classes on weekdays ;Weekends, place to be arranged among team members.;  \n",
       "2  Flexible;I am working around 20-30 hours a week during weekdays. So weekday evenings either in person or online are fine. I wouldnt want to do groupwork on the weekend only or mainly by myself;Week day evenings;  "
      ]
     },
     "execution_count": 438,
     "metadata": {},
     "output_type": "execute_result"
    }
   ],
   "source": [
    "data.drop(columns=['Start time','Completion time', 'Email', 'Name', 'Last modified time'], inplace=True)\n",
    "data.head(3)"
   ]
  },
  {
   "cell_type": "markdown",
   "id": "be836f63",
   "metadata": {},
   "source": [
    "# Value Mapping"
   ]
  },
  {
   "cell_type": "code",
   "execution_count": 439,
   "id": "d591c00c",
   "metadata": {},
   "outputs": [
    {
     "data": {
      "text/plain": [
       "Index(['ID', 'Statement 1', 'Statement 12', 'Statement 13',\n",
       "       'When would it suit you best to meet?'],\n",
       "      dtype='object')"
      ]
     },
     "execution_count": 439,
     "metadata": {},
     "output_type": "execute_result"
    }
   ],
   "source": [
    "data.columns"
   ]
  },
  {
   "cell_type": "code",
   "execution_count": 440,
   "id": "3289083f",
   "metadata": {},
   "outputs": [],
   "source": [
    "# Q1\n",
    "# How do you feel about working in a study group for programming?\n",
    "q1_mapping = {\n",
    "    'I very much believe it will strengthen my learning.': 1.0,\n",
    "    'I see it as an advantage': 0.75, \n",
    "    'Neutral – I can work both alone and in a group': 0.5, \n",
    "    'Prefer not to do group work – but I will if necessary': 0.25, \n",
    "    'Special conditions': 0.0\n",
    "    }\n",
    "data['Statement 1'] = data['Statement 1'].str.replace(' ', ' ')\n",
    "data['Statement 1'] = data['Statement 1'].str.strip().map(q1_mapping)"
   ]
  },
  {
   "cell_type": "code",
   "execution_count": 441,
   "id": "b111a0b1",
   "metadata": {},
   "outputs": [],
   "source": [
    "# Q2\n",
    "# What is your current level of programming experience?\n",
    "q2_mapping = {\n",
    "    'Professional': 1.0,\n",
    "    'Advanced (I have programmed before and feel quite confident)': 0.75, \n",
    "    'Intermediate (some experience, but still limited)': 0.5, \n",
    "    'Almost no experience': 0.25, \n",
    "    'No experience': 0.0\n",
    "    }\n",
    "\n",
    "data['Statement 12'] = data['Statement 12'].str.replace(' ', ' ')\n",
    "data['Statement 12'] = data['Statement 12'].str.strip().map(q2_mapping)"
   ]
  },
  {
   "cell_type": "code",
   "execution_count": 442,
   "id": "bb88175c",
   "metadata": {},
   "outputs": [],
   "source": [
    "# Q3\n",
    "# How would you prefer to meet with your study group?\n",
    "q3_mapping = {\n",
    "    'I have limited time to meet': 1.0,\n",
    "    'Online only': 0.83, \n",
    "    'Preferable Online': 0.66, \n",
    "    'Both are fine': 0.5, \n",
    "    'Preferable Online': 0.33, \n",
    "    'Preferrable on campus': 0.16,\n",
    "    'On campus': 0.0\n",
    "    }\n",
    "\n",
    "data['Statement 13'] = data['Statement 13'].str.replace(' ', ' ')\n",
    "data['Statement 13'] = data['Statement 13'].str.strip().map(q3_mapping)"
   ]
  },
  {
   "cell_type": "code",
   "execution_count": 443,
   "id": "860e6948",
   "metadata": {},
   "outputs": [
    {
     "data": {
      "text/plain": [
       "ID                                      0\n",
       "Statement 1                             0\n",
       "Statement 12                            0\n",
       "Statement 13                            0\n",
       "When would it suit you best to meet?    0\n",
       "dtype: int64"
      ]
     },
     "execution_count": 443,
     "metadata": {},
     "output_type": "execute_result"
    }
   ],
   "source": [
    "# if missing values, check for spaces or periods\n",
    "data.isna().sum()"
   ]
  },
  {
   "cell_type": "markdown",
   "id": "c4434561",
   "metadata": {},
   "source": [
    "# Q4 - MCQ"
   ]
  },
  {
   "cell_type": "code",
   "execution_count": 444,
   "id": "d614a739",
   "metadata": {},
   "outputs": [],
   "source": [
    "mcq_col_name = 'When would it suit you best to meet?'\n",
    "\n",
    "# remove non-standard spaces\n",
    "data[mcq_col_name] = data[mcq_col_name].str.replace(' ', ' ')"
   ]
  },
  {
   "cell_type": "code",
   "execution_count": 445,
   "id": "ad859a33",
   "metadata": {},
   "outputs": [],
   "source": [
    "q4_options = [\"Flexible\", 'Before/after classes on weekdays ', 'Week day evenings', 'Weekends, place to be arranged among team members.']\n",
    "mcq_list = data[mcq_col_name].str.split(';')"
   ]
  },
  {
   "cell_type": "code",
   "execution_count": 446,
   "id": "01323278",
   "metadata": {},
   "outputs": [
    {
     "name": "stderr",
     "output_type": "stream",
     "text": [
      "c:\\Users\\krist\\Documents\\Programming\\Python\\study-groups\\.venv\\Lib\\site-packages\\sklearn\\preprocessing\\_label.py:909: UserWarning: unknown class(es) ['', 'Before classes, I want to spend my afternoon with my family.', 'Horsens will be nice, or maybe online', 'I am working around 20-30 hours a week during weekdays. So weekday evenings either in person or online are fine. I wouldnt want to do groupwork on the weekend only or mainly by myself', 'I can meet on campus but only friday after classes (15:00 ish) and in relation to workshops on campus. Never monday.', 'I recently reduced my position from full-time to part-time in order to fully commit to my studies. Living in Aarhus while managing this part-time job leaves me with limited time outside scheduled classes. I also have reliable access to programming support beyond the study environment, so group-based collaboration is less essential for me. With classes every weekday, my sole focus is on the academic aspects of Data Science rather than the social dimension of study groups, and I would be extremely grateful if I could be allowed to work independently.', \"I travel from Odense, so would be great to do it in person if it's after class, because since I never studied programming would be maybe more easy to do it in person\", 'I would like to be in study group with Jeppe Svane Mikkelsen', 'I would like to be in study group with Nikolaj Hvid Nielsen', 'Preferably any day before 16:00 (due to the fact I sometimes work after 17:00)', 'Preferably on weekdays in the morning time', 'Some days I am able after school and some evenings (depends on the day) - a side note to my experience with programming. I have experience with VBA (I followed a course one semester) ', 'Tuesday, Wednesday, Thursday (all times of the day are fine)', 'Would be great if the team members are from the same program (I am not a data science student)', 'Would be nice to have team mates from the same education as me (data driven business devleopment)', 'flexible if online ', 'online'] will be ignored\n",
      "  warnings.warn(\n"
     ]
    }
   ],
   "source": [
    "from sklearn.preprocessing import MultiLabelBinarizer\n",
    "\n",
    "# One Hot Encode with predefined classes\n",
    "mlb = MultiLabelBinarizer(classes=q4_options)\n",
    "mcq_predefined = mlb.fit_transform(mcq_list)\n",
    "data[mlb.classes_] = mcq_predefined"
   ]
  },
  {
   "cell_type": "code",
   "execution_count": null,
   "id": "f0aeb71a",
   "metadata": {},
   "outputs": [],
   "source": [
    "def remove_mcq_options(series: pd.Series, options: list[str]) -> pd.Series:\n",
    "    \"\"\"\n",
    "    Removes all specified options and semicolons from a pandas Series of strings.\n",
    "    \"\"\"\n",
    "    result = series.str.replace(\";\", '')\n",
    "    for option in options:\n",
    "        result = result.str.replace(option, '')\n",
    "    return result\n",
    "\n",
    "# Get \"Other\" statements by removing all predefined options\n",
    "other_statement = remove_mcq_options(data[mcq_col_name], q4_options)\n",
    "\n",
    "# Binary \"Other\" column\n",
    "data[\"other\"] = other_statement.apply(lambda x: 0 if len(x) == 0 else 1)\n",
    "\n",
    "# String of \"Other\" statements\n",
    "data[\"other_text\"] = other_statement"
   ]
  },
  {
   "cell_type": "code",
   "execution_count": null,
   "id": "f7437b42",
   "metadata": {},
   "outputs": [
    {
     "data": {
      "text/html": [
       "<div>\n",
       "<style scoped>\n",
       "    .dataframe tbody tr th:only-of-type {\n",
       "        vertical-align: middle;\n",
       "    }\n",
       "\n",
       "    .dataframe tbody tr th {\n",
       "        vertical-align: top;\n",
       "    }\n",
       "\n",
       "    .dataframe thead th {\n",
       "        text-align: right;\n",
       "    }\n",
       "</style>\n",
       "<table border=\"1\" class=\"dataframe\">\n",
       "  <thead>\n",
       "    <tr style=\"text-align: right;\">\n",
       "      <th></th>\n",
       "      <th>willingness</th>\n",
       "      <th>expertise</th>\n",
       "      <th>place</th>\n",
       "      <th>Flexible</th>\n",
       "      <th>Before/after classes on weekdays</th>\n",
       "      <th>Week day evenings</th>\n",
       "      <th>Weekends, place to be arranged among team members.</th>\n",
       "      <th>Other</th>\n",
       "      <th>Other_text</th>\n",
       "    </tr>\n",
       "  </thead>\n",
       "  <tbody>\n",
       "    <tr>\n",
       "      <th>0</th>\n",
       "      <td>0.75</td>\n",
       "      <td>0.50</td>\n",
       "      <td>0.16</td>\n",
       "      <td>0</td>\n",
       "      <td>1</td>\n",
       "      <td>0</td>\n",
       "      <td>0</td>\n",
       "      <td>0</td>\n",
       "      <td></td>\n",
       "    </tr>\n",
       "    <tr>\n",
       "      <th>1</th>\n",
       "      <td>0.50</td>\n",
       "      <td>0.00</td>\n",
       "      <td>0.33</td>\n",
       "      <td>0</td>\n",
       "      <td>1</td>\n",
       "      <td>0</td>\n",
       "      <td>1</td>\n",
       "      <td>0</td>\n",
       "      <td></td>\n",
       "    </tr>\n",
       "    <tr>\n",
       "      <th>2</th>\n",
       "      <td>0.75</td>\n",
       "      <td>0.25</td>\n",
       "      <td>1.00</td>\n",
       "      <td>1</td>\n",
       "      <td>0</td>\n",
       "      <td>1</td>\n",
       "      <td>0</td>\n",
       "      <td>1</td>\n",
       "      <td>I am working around 20-30 hours a week during weekdays. So weekday evenings either in person or online are fine. I wouldnt want to do groupwork on the weekend only or mainly by myself</td>\n",
       "    </tr>\n",
       "  </tbody>\n",
       "</table>\n",
       "</div>"
      ],
      "text/plain": [
       "   willingness  expertise  place  Flexible  Before/after classes on weekdays   \\\n",
       "0         0.75       0.50   0.16         0                                  1   \n",
       "1         0.50       0.00   0.33         0                                  1   \n",
       "2         0.75       0.25   1.00         1                                  0   \n",
       "\n",
       "   Week day evenings  Weekends, place to be arranged among team members.  \\\n",
       "0                  0                                                   0   \n",
       "1                  0                                                   1   \n",
       "2                  1                                                   0   \n",
       "\n",
       "   Other  \\\n",
       "0      0   \n",
       "1      0   \n",
       "2      1   \n",
       "\n",
       "                                                                                                                                                                                Other_text  \n",
       "0                                                                                                                                                                                           \n",
       "1                                                                                                                                                                                           \n",
       "2  I am working around 20-30 hours a week during weekdays. So weekday evenings either in person or online are fine. I wouldnt want to do groupwork on the weekend only or mainly by myself  "
      ]
     },
     "execution_count": 448,
     "metadata": {},
     "output_type": "execute_result"
    }
   ],
   "source": [
    "data.drop(columns=[mcq_col_name, 'ID'], inplace=True)\n",
    "data.rename(columns={\n",
    "    'Statement 1': 'willingness',\n",
    "    'Statement 12': 'expertise',\n",
    "    'Statement 13': 'place',\n",
    "    'Flexible': 'flexible',\n",
    "    'Before/after classes on weekdays ': 'before_after_classes',\n",
    "    'Week day evenings': 'week_day_evenings',\n",
    "    'Weekends, place to be arranged among team members.': 'weekends'\n",
    "}, inplace=True)\n",
    "\n",
    "data.head(3)"
   ]
  }
 ],
 "metadata": {
  "kernelspec": {
   "display_name": "study-groups",
   "language": "python",
   "name": "python3"
  },
  "language_info": {
   "codemirror_mode": {
    "name": "ipython",
    "version": 3
   },
   "file_extension": ".py",
   "mimetype": "text/x-python",
   "name": "python",
   "nbconvert_exporter": "python",
   "pygments_lexer": "ipython3",
   "version": "3.13.7"
  }
 },
 "nbformat": 4,
 "nbformat_minor": 5
}
